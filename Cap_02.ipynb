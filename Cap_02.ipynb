{
 "cells": [
  {
   "cell_type": "markdown",
   "metadata": {},
   "source": [
    "# Capítulo 02\n",
    "\n",
    "## Topíco 01\n",
    "### Sub 01\n",
    "### Sub 02\n",
    "\n",
    "## Topíco 02\n",
    "### Sub 01\n",
    "### Sub 02\n",
    "\n",
    "## Topíco 03\n",
    "### Sub 01\n",
    "### Sub 02\n",
    "\n",
    "## Topíco 04\n",
    "### Sub 01\n",
    "### Sub 02"
   ]
  }
 ],
 "metadata": {
  "language_info": {
   "codemirror_mode": {
    "name": "ipython",
    "version": 3
   },
   "file_extension": ".py",
   "mimetype": "text/x-python",
   "name": "python",
   "nbconvert_exporter": "python",
   "pygments_lexer": "ipython3",
   "version": 3
  },
  "toc": {
   "base_numbering": 1,
   "nav_menu": {},
   "number_sections": true,
   "sideBar": true,
   "skip_h1_title": true,
   "title_cell": "",
   "title_sidebar": "Contents",
   "toc_cell": false,
   "toc_position": {},
   "toc_section_display": true,
   "toc_window_display": true
  },
  "toc-autonumbering": false
  },
  "orig_nbformat": 2
 },
 "nbformat": 4,
 "nbformat_minor": 2
}