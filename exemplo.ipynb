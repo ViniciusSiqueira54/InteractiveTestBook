{
 "cells": [
  {
   "cell_type": "markdown",
   "metadata": {},
   "source": [
    "# Exemplo de titulo h1\n",
    "\n",
    "Vamos supor que eu queira escrever algo em **negrito**, é simple, é só por dois * antes e depois da palavra, já em *itálico*, só um já é o suficiente. \n",
    "\n",
    "para códigos é o seguinte, precisamos por:\n",
    "\n",
    "pra uma linha única, um acento grave ` no inicio e no final dessa linha:\n",
    "\n",
    "`a = float(22/5)`\n",
    "\n",
    "ou para multiplas linhas, podemos utilizar tanto 3 acentos ` ou 3 ~, ex:\n",
    "\n",
    "~~~\n",
    "a = float(22/5) \n",
    "b = int(4.5) \n",
    "c = int(3.9) \n",
    "d = int(0xff563) \n",
    "e = float(int(3.9)) \n",
    "f = int(float(3.9)) \n",
    "g = int(float(3)) \n",
    "h = round(3.9) \n",
    "i = round(3) \n",
    "j = int(round(3.9)) \n",
    "print(a,b,c,d,e,f,g,h,i,j)\n",
    "~~~\n",
    "\n",
    "\n",
    "\n",
    "\n",
    "\n"
   ]
  },
  {
   "cell_type": "code",
   "execution_count": 3,
   "metadata": {
    "tags": []
   },
   "outputs": [
    {
     "output_type": "stream",
     "name": "stdout",
     "text": "4.4 4 3 1045859 3.0 3 3 4 3 4\n"
    }
   ],
   "source": [
    "a = float(22/5) \n",
    "b = int(4.5) \n",
    "c = int(3.9) \n",
    "d = int(0xff563) \n",
    "e = float(int(3.9)) \n",
    "f = int(float(3.9)) \n",
    "g = int(float(3)) \n",
    "h = round(3.9) \n",
    "i = round(3) \n",
    "j = int(round(3.9)) \n",
    "print(a,b,c,d,e,f,g,h,i,j)"
   ]
  },
  {
   "cell_type": "markdown",
   "metadata": {},
   "source": [
    "## BubbleSort \n",
    "\n",
    "Vamos ver abaixo o seguinte algoritmo de BubbleSort para a ordenação de uma lista de elementos.\n",
    "\n",
    "Como exemplo vamos utilizar a seguinte lista de elementos:\n"
   ]
  },
  {
   "cell_type": "code",
   "execution_count": 6,
   "metadata": {
    "tags": []
   },
   "outputs": [
    {
     "output_type": "stream",
     "name": "stdout",
     "text": "[54, 26, 93, 17, 77, 31, 44, 55, 20]\n"
    }
   ],
   "source": [
    "alist = [54,26,93,17,77,31,44,55,20]\n",
    "print(alist)"
   ]
  },
  {
   "cell_type": "markdown",
   "metadata": {},
   "source": [
    "\n",
    "Tendo essa lista como exemplo, agora podemos passar ela pro algoritmo, pra ele encarregar de ordenar esses elementos e retornar a mesma ordenada. "
   ]
  },
  {
   "cell_type": "code",
   "execution_count": 7,
   "metadata": {
    "tags": []
   },
   "outputs": [
    {
     "output_type": "stream",
     "name": "stdout",
     "text": "[17, 20, 26, 31, 44, 54, 55, 77, 93]\n"
    }
   ],
   "source": [
    "def bubbleSort(alist):\n",
    "    for passnum in range(len(alist)-1,0,-1):\n",
    "        for i in range(passnum):\n",
    "            if alist[i]>alist[i+1]:\n",
    "                temp = alist[i]\n",
    "                alist[i] = alist[i+1]\n",
    "                alist[i+1] = temp\n",
    "\n",
    "\n",
    "bubbleSort(alist)\n",
    "print(alist)"
   ]
  },
  {
   "cell_type": "code",
   "execution_count": null,
   "metadata": {},
   "outputs": [],
   "source": []
  }
 ],
 "metadata": {
  "language_info": {
   "codemirror_mode": {
    "name": "ipython",
    "version": 3
   },
   "file_extension": ".py",
   "mimetype": "text/x-python",
   "name": "python",
   "nbconvert_exporter": "python",
   "pygments_lexer": "ipython3",
   "version": "3.8.3-final"
  },
  "orig_nbformat": 2,
  "kernelspec": {
   "name": "python38332bit1c501c9935f84e3e835d0f30a54ef916",
   "display_name": "Python 3.8.3 32-bit"
  }
 },
 "nbformat": 4,
 "nbformat_minor": 2
}
