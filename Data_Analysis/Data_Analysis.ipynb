{
  "nbformat": 4,
  "nbformat_minor": 0,
  "metadata": {
    "colab": {
      "name": "Data_Analysis.ipynb",
      "provenance": [],
      "collapsed_sections": [
        "75TA3SZDigJt",
        "q2IT6hWTipui",
        "ObMf8E1Mi6zg",
        "Of6QecPBeZvV",
        "0o0zX7L-GKJS",
        "2h_AP5rsR6m4",
        "vp0fj6_qSXR-",
        "4WhAmTp9F5qI"
      ],
      "include_colab_link": true
    },
    "kernelspec": {
      "name": "python3",
      "display_name": "Python 3"
    },
    "language_info": {
      "name": "python"
    }
  },
  "cells": [
    {
      "cell_type": "markdown",
      "metadata": {
        "id": "view-in-github",
        "colab_type": "text"
      },
      "source": [
        "<a href=\"https://colab.research.google.com/github/ViniciusSiqueira54/InteractiveTestBook/blob/master/Data_Analysis/Data_Analysis.ipynb\" target=\"_parent\"><img src=\"https://colab.research.google.com/assets/colab-badge.svg\" alt=\"Open In Colab\"/></a>"
      ]
    },
    {
      "cell_type": "markdown",
      "metadata": {
        "id": "q2IT6hWTipui"
      },
      "source": [
        "#Authenticate block"
      ]
    },
    {
      "cell_type": "code",
      "metadata": {
        "id": "P2jvVT1ypiMu"
      },
      "source": [
        "'''\n",
        "Auth block of code\n",
        "\n",
        "In this block provide your credentials to the runtime, notice that to use this \n",
        "you need to use a Motorola account to have access to the BigQuery data used here.\n",
        "\n",
        "For further purposes, this block needs to be changed to authenticate using the \n",
        "Google Cloud API for testing purposes or authenticate as an end-user, \n",
        "for more information on how to do this check the links below.\n",
        "\n",
        "https://cloud.google.com/docs/authentication/getting-started\n",
        "https://cloud.google.com/docs/authentication/end-user\n",
        "'''\n",
        "\n",
        "from google.colab import auth\n",
        "auth.authenticate_user()\n",
        "print('Authenticated')"
      ],
      "execution_count": null,
      "outputs": []
    },
    {
      "cell_type": "markdown",
      "metadata": {
        "id": "75TA3SZDigJt"
      },
      "source": [
        "#Import Libs"
      ]
    },
    {
      "cell_type": "code",
      "metadata": {
        "id": "lNYzHm8mri5-"
      },
      "source": [
        "!pip install --upgrade gspread\n",
        "from oauth2client.client import GoogleCredentials\n",
        "\n",
        "import pandas as pd\n",
        "import numpy as np\n",
        "import requests\n",
        "import gspread\n",
        "import time\n",
        "\n",
        "from datetime import datetime\n",
        "\n",
        "class color:\n",
        "   BOLD = '\\033[1m'\n",
        "   UNDERLINE = '\\033[4m'\n",
        "   END = '\\033[0m'"
      ],
      "execution_count": null,
      "outputs": []
    },
    {
      "cell_type": "code",
      "metadata": {
        "id": "IKB9F3NDpZEs"
      },
      "source": [
        "# Importing the dtExtractFromBQ.py from github, make sure you get the \"Raw\" version of the code\n",
        "url = 'https://raw.githubusercontent.com/mirandaRG/hbprio/master/Data_Analysis/Data_Extraction/dtExtractFromBQ.py?token=AO47UI2O4LSCLX4OGXVB743BTLLN2'\n",
        "r = requests.get(url)\n",
        "\n",
        "# make sure your filename is the same as how you want to import \n",
        "with open('dtExtractFromBQ.py', 'w') as f:\n",
        "    f.write(r.text)\n",
        "\n",
        "import dtExtractFromBQ as bq"
      ],
      "execution_count": null,
      "outputs": []
    },
    {
      "cell_type": "code",
      "metadata": {
        "id": "7NEcMMGpdmCv"
      },
      "source": [
        "\n",
        "# Importing the metricsHBPrio.py from github, make sure you get the \"Raw\" version of the code\n",
        "url = 'https://raw.githubusercontent.com/mirandaRG/hbprio/master/Data_Analysis/Data_Extraction/metricsHBPrio.py?token=AO47UIYK2QTA5FGOHVADXFDBTLLO6'\n",
        "r = requests.get(url)\n",
        "\n",
        "# make sure your filename is the same as how you want to import \n",
        "with open('metricsHBPrio.py', 'w') as f:\n",
        "    f.write(r.text)\n",
        "\n",
        "# now we can import\n",
        "import metricsHBPrio as mt"
      ],
      "execution_count": null,
      "outputs": []
    },
    {
      "cell_type": "markdown",
      "metadata": {
        "id": "WMNA7wipjILx"
      },
      "source": [
        "#APFD Analysis (Core Plans)"
      ]
    },
    {
      "cell_type": "markdown",
      "metadata": {
        "id": "0o0zX7L-GKJS"
      },
      "source": [
        "## One Plan"
      ]
    },
    {
      "cell_type": "code",
      "metadata": {
        "id": "-jhm5N7SduL3"
      },
      "source": [
        "def APFDResults(): \n",
        "  print(\"Check below the comparison of different APFD heuristics.\\n\")\n",
        "\n",
        "  ro_med = 0\n",
        "\n",
        "  for x in range(0, 30):\n",
        "      ro_med += mt.RandomlyOrdered()\n",
        "\n",
        "  ro_med = ro_med/30\n",
        "\n",
        "  print(\"\\n\\tAPFD value of the \" +color.BOLD+ \"Original Test Date\" +color.END+ \" used by the testers: %.2f\" %(mt.OrderedTestDate()))\n",
        "  print(\"\\tAPFD value if testers had followed the \" +color.BOLD+ \"Default Dalek Ordenation\" +color.END+ \": %.2f\" %(mt.OrderedDalekDefault()))\n",
        "  print(\"\\tAPFD value of some \" +color.BOLD+ \"Randomly Ordination\" +color.END+ \" of the test results: %.2f\" %(ro_med))\n",
        "  print(\"\\tAPFD value of the \" +color.BOLD+ \"Best Possible Ordination\" +color.END+ \" (Fail and Blocked by CRs first): %.2f\" %(mt.BestOrdered()))\n",
        "  print(\"\\n\\tAPFD value of the \" +color.BOLD+ \"Case Creation Order from Older to Newer cases\" +color.END+ \": %.2f\" %(mt.OlderToNew()))\n",
        "  print(\"\\tAPFD value of the \" +color.BOLD+ \"Case Creation Order from Newer to Older cases\" +color.END+ \": %.2f\" %(mt.NewToOlder()))\n",
        "  print(\"\\n\\n\\tAPFD value of the \" +color.BOLD+ \"HBprio Trial\" +color.END+ \" (Cases with higher failure percentage first): %.2f\" %(mt.OrderedHistoryBase()))\n",
        "\n",
        "# -- APFDResults"
      ],
      "execution_count": null,
      "outputs": []
    },
    {
      "cell_type": "code",
      "metadata": {
        "id": "XIAHBfCHduJs"
      },
      "source": [
        "mt.preAPFD(planDF)\n",
        "APFDResults()"
      ],
      "execution_count": null,
      "outputs": []
    },
    {
      "cell_type": "code",
      "metadata": {
        "id": "cUes3MSUduHn"
      },
      "source": [
        ""
      ],
      "execution_count": null,
      "outputs": []
    },
    {
      "cell_type": "markdown",
      "metadata": {
        "id": "osGrirCPGQ0V"
      },
      "source": [
        "## Multiple Plans (Core Plans)"
      ]
    },
    {
      "cell_type": "code",
      "metadata": {
        "id": "3lTnmB1cduAm"
      },
      "source": [
        "def APFDResults2(append_index, plan): \n",
        " \n",
        "  ro_med = 0\n",
        "\n",
        "  for x in range(0, 30):\n",
        "      ro_med += mt.RandomlyOrdered()\n",
        "\n",
        "  ro_med = round(ro_med/30, 2)\n",
        "  otd = round(mt.OrderedTestDate(), 2)\n",
        "  odd = round(mt.OrderedDalekDefault(), 2)\n",
        "  bo = round(mt.BestOrdered(), 2)\n",
        "  otn = round(mt.OlderToNew(), 2)\n",
        "  nto = round(mt.NewToOlder(), 2)\n",
        "  ohb = round(mt.OrderedHistoryBase(), 2)\n",
        "\n",
        "  ind = append_index;\n",
        "  df = pd.DataFrame({\"Device\": [\"Test\"],\"TP Id\": [plan],\"OTD\": [otd],\"ODD\": [odd],\"RO\": [ro_med],\"BO\": [bo],\"OtN\": [otn],\"NtO\": [nto],\"OHB\": [ohb]},index=[ind])\n",
        "\n",
        "  return df\n",
        "  \n",
        "# -- APFDResults2"
      ],
      "execution_count": null,
      "outputs": []
    },
    {
      "cell_type": "code",
      "metadata": {
        "id": "Q1rPECtis6Yn"
      },
      "source": [
        "#plans = [\"MCA-1872700\",\"MCA-2738679\",\"MCA-2454353\",\"MCA-2454354\",\"MCA-2752240\",\"MCA-2454250\",\"MCA-2708462\",\"MCA-2742232\",\"MCA-2808712\",\"MCA-2708394\"]\n",
        "#plans = [\"MCA-2138838\",\"MCA-2137314\",\"MCA-2138839\",\"MCA-1930879\",\"MCA-2271108\"]\n",
        "\n",
        "\n",
        "global dataframe_collection, testplanid_collection, product\n",
        "dataframe_collection = []\n",
        "testplanid_collection = [] \n",
        "\n",
        "CoreTrial_df = pd.DataFrame()\n",
        "x=0\n",
        "\n",
        "for i in plans:\n",
        "  updateQueries(i)\n",
        "  mt.preAPFD(getPlanData())\n",
        "  df = APFDResults2(x,i)\n",
        "  x+=1\n",
        "  CoreTrial_df = CoreTrial_df.append(df)\n",
        "\n",
        "#result = df1.append(df2)"
      ],
      "execution_count": null,
      "outputs": []
    },
    {
      "cell_type": "code",
      "metadata": {
        "id": "8ZiwPyfHoyC3"
      },
      "source": [
        ""
      ],
      "execution_count": null,
      "outputs": []
    },
    {
      "cell_type": "markdown",
      "metadata": {
        "id": "2h_AP5rsR6m4"
      },
      "source": [
        "###Save output to HBPrio Trial Spreadsheet \n",
        "\n",
        "[HBPrio Trial Spreadsheet](https://docs.google.com/spreadsheets/d/11lHXTsAPC_40kiSXIjyHPl7RHRT6N2NzOjA41HdlsYM/edit#gid=1426537970)"
      ]
    },
    {
      "cell_type": "code",
      "metadata": {
        "id": "vFBNTd-PR1eF"
      },
      "source": [
        "gc = gspread.authorize(GoogleCredentials.get_application_default())\n",
        "\n",
        "#copia todo o workbook pra essa variavel \n",
        "wbfull = gc.open_by_key(\"11lHXTsAPC_40kiSXIjyHPl7RHRT6N2NzOjA41HdlsYM\")\n",
        "\n",
        "today = datetime.now().strftime('%d/%m/%Y|%H:%M')\n",
        "newSheetName = 'Trial Execution Record - '+ today+'(utc)'\n",
        "\n",
        "wbfull.duplicate_sheet(1426537970,new_sheet_name=newSheetName)\n",
        "\n",
        "#PASSANDO OS DADOS PRA NOVA ABA\n",
        "newSheet = wbfull.worksheet(newSheetName)\n",
        "plansInfosList = CoreTrial_df.values.tolist()\n",
        "newSheet.update('C3:L27',plansInfosList)"
      ],
      "execution_count": null,
      "outputs": []
    },
    {
      "cell_type": "markdown",
      "metadata": {
        "id": "vp0fj6_qSXR-"
      },
      "source": [
        "###Plota hotmap do exemplo acima"
      ]
    },
    {
      "cell_type": "code",
      "metadata": {
        "id": "lu9q2gbRYSPb"
      },
      "source": [
        "import matplotlib.pyplot as plt\n",
        "from pandas import DataFrame\n",
        "import seaborn as sns\n",
        "%matplotlib inline\n",
        "\n",
        "plt.figure(figsize=(12,10))\n",
        "sns.heatmap(CoreTrial_df[['OTD', 'ODD', 'RO', 'BO', 'OtN', 'NtO', 'OHB', ]], cmap=\"Blues\", annot=True, linecolor='white', linewidths=0.5)"
      ],
      "execution_count": null,
      "outputs": []
    },
    {
      "cell_type": "code",
      "metadata": {
        "id": "Vh_sIEUNzkoh"
      },
      "source": [
        ""
      ],
      "execution_count": null,
      "outputs": []
    },
    {
      "cell_type": "markdown",
      "metadata": {
        "id": "Z6UxaiF6fBvc"
      },
      "source": [
        "## Multiple Plans (Core Plans by Family Product)"
      ]
    },
    {
      "cell_type": "code",
      "metadata": {
        "id": "jEEwliJDYSHn"
      },
      "source": [
        "def APFDResults3(append_index, plan, date): \n",
        "\n",
        "  print(\"Data dentro do APFDResults3\")\n",
        "  print(date)\n",
        "\n",
        "#---------------------------------------------------------------------------------tempo#\n",
        "  init_time = time.time()\n",
        "#--------------------------------------------------------------------------------------#\n",
        "\n",
        "  ro_med = 0\n",
        "  mesmo, diferente = mt.CasesIdentifier(reorderedPlans,append_index,date) #used on ohb_02\n",
        "\n",
        "  for x in range(0, 30):\n",
        "      ro_med += mt.RandomlyOrdered()\n",
        "\n",
        "  ro_med = round(ro_med/30, 2)\n",
        "  otd = round(mt.OrderedTestDate(), 2)\n",
        "  bo = round(mt.BestOrdered(), 2)\n",
        "  nto = round(mt.NewToOlder(), 2)\n",
        "  ohb_01 = round(mt.OrderedHistoryBase01(), 2)\n",
        "  ohb_02 = round(mt.OrderedHistoryBase02(mesmo, diferente), 2)\n",
        "\n",
        "#---------------------------------------------------------------------------------tempo#\n",
        "  end_time = time.time()\n",
        "  prep_time = round(end_time - init_time, 2) #tempo\n",
        "#--------------------------------------------------------------------------------------#\n",
        "\n",
        "  df1 = pd.DataFrame({\"Device\": [mt.apfd_filtered['Product'][0]],\"TP Id\": [plan],\"# TCs\": [mt.numCases],\"# Failures\":[mt.m],\"Unique Cases\": [mt.numUniqueCases],\"Same Cases\":[mt.numSameCases],\"Diff Cases\":[mt.numDiffeCases],\"Prep Time\":[prep_time],\"OTD\": [otd],\"RO\": [ro_med],\"BO\": [bo],\"NtO\": [nto],\"OHB_v01\": [ohb_01],\"Prio Time ohb01\" : [mt.ohb1_prio_time],\"OHB_v02\": [ohb_02],\"Prio Time ohb02\" : [mt.ohb2_prio_time],\"Initial Date\": [date]},index=[append_index])\n",
        " \n",
        "\n",
        "\n",
        "#--------------------------------------------------------------------------------------#\n",
        "\n",
        "  #Product\tId\tApproach\tAPFD\tPrio Time\n",
        "  global df2\n",
        "\n",
        "  df2 = pd.DataFrame({\n",
        "                      'Product': [mt.apfd_filtered['Product'][0],'---','---','---','---','---'],\n",
        "                      'TP Id': [plan,'---','---','---','---','---'],\n",
        "                      'Approach': ['OTD','RO','BO','NewOld','OHB_v01','OHB_v02'],\n",
        "                      'APFD': [otd, ro_med, bo, nto, ohb_01, ohb_02],\n",
        "                      'Prio Time': ['---','---','---','---',mt.ohb1_prio_time,mt.ohb2_prio_time]\n",
        "                      },\n",
        "                  index=['1','2','3','4','5','6'])\n",
        "\n",
        "#--------------------------------------------------------------------------------------#\n",
        "\n",
        "  return df1\n",
        "  \n",
        "# -- APFDResults3"
      ],
      "execution_count": null,
      "outputs": []
    },
    {
      "cell_type": "code",
      "metadata": {
        "id": "pfRNjKS9G0Y3"
      },
      "source": [
        "#plans = [\"MCA-490610\",\"MCA-456825\",\"MCA-613615\",\"MCA-1018360\",\"MCA-1012809\",\"MCA-1080835\",\"MCA-1123868\",\"MCA-1210708\",\"MCA-1179367\",\"MCA-1192800\",\"MCA-1218873\",\"MCA-1190585\",\"MCA-1254805\",\"MCA-1254829\",\"MCA-1254782\",\"MCA-1256854\",\"MCA-1359793\",\"MCA-1359794\",\"MCA-1380127\",\"MCA-1386292\",\"MCA-1467220\",\"MCA-1464744\",\"MCA-1560065\",\"MCA-1609087\",\"MCA-1654651\",\"MCA-1657032\",\"MCA-1652420\",\"MCA-1652416\",\"MCA-1652418\",\"MCA-1930879\",\"MCA-2138838\",\"MCA-2138839\",\"MCA-2137314\",\"MCA-2271108\",\"MCA-2454354\",\"MCA-2438034\",\"MCA-2454250\",\"MCA-2455967\",\"MCA-2454569\",\"MCA-2540411\",\"MCA-2525220\",\"MCA-2540412\",\"MCA-2540459\",\"MCA-2454353\",\"MCA-2738679\",\"MCA-2710025\",\"MCA-2708394\",\"MCA-2708465\",\"MCA-2742232\",\"MCA-2752240\",\"MCA-2808712\"]\n",
        "plans = [\"MCA-2455967\",\"MCA-2454569\",\"MCA-2540411\"]\n",
        "#plans = [\"MCA-2455967\"]\n",
        "\n",
        "#REORDENA OS PLANOS DE ACORDO COM A DATA DE INICIO\n",
        "\n",
        "PlansDateInfo = pd.DataFrame()\n",
        "a=0\n",
        "x=0\n",
        "\n",
        "#used on CasesIdentifier()\n",
        "global dataframe_collection, testplanid_collection, product\n",
        "dataframe_collection = []\n",
        "testplanid_collection = [] \n",
        "\n",
        "for i in plans:\n",
        "  bq.getPlanInitDateQuery(i)\n",
        "  df = bq.getPlanInitDate()\n",
        "  df['PlanID'] = i\n",
        "  df.rename(index={0:a},inplace=True)\n",
        "  PlansDateInfo = PlansDateInfo.append(df)\n",
        "  a+=1\n",
        "\n",
        "PlansDateInfo['dataInicial'] = pd.to_datetime(PlansDateInfo['DateInit'])\n",
        "PlansDateInfo = PlansDateInfo.sort_values(by='dataInicial', ascending=True)\n",
        "\n",
        "reorderedPlans = PlansDateInfo['PlanID'].tolist()\n"
      ],
      "execution_count": null,
      "outputs": []
    },
    {
      "cell_type": "code",
      "metadata": {
        "id": "9w73wNNxyDlo"
      },
      "source": [
        "#print(reorderedPlans)"
      ],
      "execution_count": null,
      "outputs": []
    },
    {
      "cell_type": "code",
      "metadata": {
        "id": "2-HVHIllmQBE"
      },
      "source": [
        "#PlansDateInfo.head(30)"
      ],
      "execution_count": null,
      "outputs": []
    },
    {
      "cell_type": "code",
      "metadata": {
        "id": "8H5TYpBPlhHp"
      },
      "source": [
        "# ORIGINAL CELL\n",
        "\n",
        "#%%time\n",
        "\n",
        "Moto_G_Family = ['Rio H - Lake','Oslo M','Rio M - River','Oslo H - Ocean','Doha - Doha','RAV - RAV','Sofia Plus','Sofia Row','Sofia NA',\n",
        "                 'Guam+ Row','Cebu','Minsk NA','Borneo NA','Odessa']\n",
        "\n",
        "FamilyTrial_df = pd.DataFrame()\n",
        "FamilyTrial_R_data_df = pd.DataFrame()  #------------------------- NEW\n",
        "\n",
        "dates = []\n",
        "dates = PlansDateInfo['DateInit'].tolist()\n",
        "\n",
        "familyProducts = \"'\" + \"', '\".join(Moto_G_Family) + \"'\" \n",
        "\n",
        "for j in dates:\n",
        "  #bq.updateFamilyQuerie((PlansDateInfo['PlanID'].iloc[x]),(PlansDateInfo['DateInit'].iloc[x]))\n",
        "  bq.updateFamilyQuerie_01((PlansDateInfo['PlanID'].iloc[x]),(PlansDateInfo['DateInit'].iloc[x]),familyProducts)\n",
        "  mt.preAPFD(bq.getPlanDataFamily())\n",
        "  print(\"Numero de resultados analisados:\")  #------------------------- NEW\n",
        "  print(mt.history_size)  #------------------------- NEW\n",
        "  df = APFDResults3(x,(PlansDateInfo['PlanID'].iloc[x]),(PlansDateInfo['DateInit'].iloc[x]))\n",
        "  x+=1\n",
        "  FamilyTrial_df = FamilyTrial_df.append(df)\n",
        "  FamilyTrial_R_data_df = FamilyTrial_R_data_df.append(df2)  #------------------------- NEW\n"
      ],
      "execution_count": null,
      "outputs": []
    },
    {
      "cell_type": "code",
      "metadata": {
        "id": "m2lB7twko0R_"
      },
      "source": [
        "Moto_G_Family = ['Rio H - Lake','Oslo M','Rio M - River','Oslo H - Ocean','Doha - Doha','RAV - RAV','Sofia Plus','Sofia Row','Sofia NA',\n",
        "                 'Guam+ Row','Cebu','Minsk NA','Borneo NA','Odessa']\n",
        "\n",
        "FamilyTrial_df = pd.DataFrame()\n",
        "FamilyTrial_R_data_df = pd.DataFrame()  #------------------------- NEW\n",
        "\n",
        "dates = []\n",
        "dates = PlansDateInfo['DateInit'].tolist()\n",
        "\n",
        "familyProducts = \"'\" + \"', '\".join(Moto_G_Family) + \"'\" \n",
        "\n",
        "for j in dates:\n",
        "  bq.updateFamilyQuerie((PlansDateInfo['PlanID'].iloc[x]),(PlansDateInfo['DateInit'].iloc[x]))\n",
        "  mt.preAPFD(bq.getPlanDataFamily())\n",
        "  print(\"Numero de resultados analisados:\")  #------------------------- NEW\n",
        "  print(mt.history_size)  #------------------------- NEW\n",
        "\n",
        "  print(\"debug\")\n",
        "  print(x)\n",
        "  print(PlansDateInfo['PlanID'].iloc[x])\n",
        "  print(PlansDateInfo['DateInit'].iloc[x])\n",
        "  \n",
        "  df = APFDResults3(x,(PlansDateInfo['PlanID'].iloc[x]),(PlansDateInfo['DateInit'].iloc[x]))\n",
        "  \n",
        "  x+=1\n",
        "  FamilyTrial_df = FamilyTrial_df.append(df)\n",
        "  FamilyTrial_R_data_df = FamilyTrial_R_data_df.append(df2)  #------------------------- NEW\n"
      ],
      "execution_count": null,
      "outputs": []
    },
    {
      "cell_type": "code",
      "metadata": {
        "id": "V7Q8JcLv8BnJ"
      },
      "source": [
        ""
      ],
      "execution_count": null,
      "outputs": []
    },
    {
      "cell_type": "code",
      "metadata": {
        "id": "K4aRO_7e8AiI"
      },
      "source": [
        "#mt.apfd_filtered.head()"
      ],
      "execution_count": null,
      "outputs": []
    },
    {
      "cell_type": "code",
      "metadata": {
        "id": "3KWQm-25GQA4"
      },
      "source": [
        "FamilyTrial_R_data_df.head(30)"
      ],
      "execution_count": null,
      "outputs": []
    },
    {
      "cell_type": "code",
      "metadata": {
        "id": "0zy1P-QFZqFG"
      },
      "source": [
        "#FamilyTrial_df.loc['mean'] = FamilyTrial_df.mean()\n",
        "FamilyTrial_df.head(30)\n",
        "#len(FamilyTrial_df)"
      ],
      "execution_count": null,
      "outputs": []
    },
    {
      "cell_type": "markdown",
      "metadata": {
        "id": "mku_E64kS7XA"
      },
      "source": [
        "###Save output to HBPrio Trial Spreadsheet \n",
        "\n",
        "[HBPrio Trial Spreadsheet](https://docs.google.com/spreadsheets/d/11lHXTsAPC_40kiSXIjyHPl7RHRT6N2NzOjA41HdlsYM/edit#gid=1426537970)"
      ]
    },
    {
      "cell_type": "code",
      "metadata": {
        "id": "xF5-_rs5S7XA"
      },
      "source": [
        "gc = gspread.authorize(GoogleCredentials.get_application_default())\n",
        "\n",
        "#copia todo o workbook pra essa variavel \n",
        "wbfull = gc.open_by_key(\"11lHXTsAPC_40kiSXIjyHPl7RHRT6N2NzOjA41HdlsYM\")\n",
        "\n",
        "today = datetime.now().strftime('%d/%m/%Y|%H:%M')\n",
        "newSheetName = 'Execution Record - '+ today+'(utc)'\n",
        "\n",
        "wbfull.duplicate_sheet(1426537970,new_sheet_name=newSheetName)\n",
        "\n",
        "#PASSANDO OS DADOS PRA NOVA ABA\n",
        "newSheet = wbfull.worksheet(newSheetName)\n",
        "plansInfosList = FamilyTrial_df.values.tolist()\n",
        "newSheet.update('C3:S56',plansInfosList)"
      ],
      "execution_count": null,
      "outputs": []
    },
    {
      "cell_type": "code",
      "metadata": {
        "id": "jptv5fC5R4SL"
      },
      "source": [
        "gc = gspread.authorize(GoogleCredentials.get_application_default())\n",
        "\n",
        "#copia todo o workbook pra essa variavel \n",
        "wbfull = gc.open_by_key(\"11lHXTsAPC_40kiSXIjyHPl7RHRT6N2NzOjA41HdlsYM\")\n",
        "\n",
        "today = datetime.now().strftime('%d/%m/%Y|%H:%M')\n",
        "newSheetName = 'R Data - '+ today+'(utc)'\n",
        "\n",
        "wbfull.duplicate_sheet(1563854476,new_sheet_name=newSheetName)\n",
        "\n",
        "#PASSANDO OS DADOS PRA NOVA ABA\n",
        "newSheet = wbfull.worksheet(newSheetName)\n",
        "plansInfosList = FamilyTrial_R_data_df.values.tolist()\n",
        "newSheet.update('B3:F',plansInfosList)"
      ],
      "execution_count": null,
      "outputs": []
    },
    {
      "cell_type": "markdown",
      "metadata": {
        "id": "wf-LNv8xS657"
      },
      "source": [
        "###Plota hotmap do exemplo acima"
      ]
    },
    {
      "cell_type": "code",
      "metadata": {
        "id": "G2V67S8WYSA6"
      },
      "source": [
        "import matplotlib.pyplot as plt\n",
        "from pandas import DataFrame\n",
        "import seaborn as sns\n",
        "%matplotlib inline\n",
        "\n",
        "plt.figure(figsize=(12,10))\n",
        "sns.heatmap(FamilyTrial_df[['OTD', 'ODD', 'RO', 'BO', 'OtN', 'NtO', 'OHB']], cmap=\"Blues\", annot=True, linecolor='white', linewidths=0.5)"
      ],
      "execution_count": null,
      "outputs": []
    },
    {
      "cell_type": "code",
      "metadata": {
        "id": "kw5zdGS8YR9h"
      },
      "source": [
        ""
      ],
      "execution_count": null,
      "outputs": []
    }
  ]
}