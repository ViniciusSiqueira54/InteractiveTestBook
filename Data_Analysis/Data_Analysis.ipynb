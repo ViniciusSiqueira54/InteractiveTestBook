{
  "nbformat": 4,
  "nbformat_minor": 0,
  "metadata": {
    "colab": {
      "name": "Data Analysis",
      "provenance": [],
      "include_colab_link": true
    },
    "kernelspec": {
      "name": "python3",
      "display_name": "Python 3"
    }
  },
  "cells": [
    {
      "cell_type": "markdown",
      "metadata": {
        "id": "view-in-github",
        "colab_type": "text"
      },
      "source": [
        "<a href=\"https://colab.research.google.com/github/ViniciusSiqueira54/InteractiveTestBook/blob/master/Data_Analysis/Data_Analysis.ipynb\" target=\"_parent\"><img src=\"https://colab.research.google.com/assets/colab-badge.svg\" alt=\"Open In Colab\"/></a>"
      ]
    },
    {
      "cell_type": "markdown",
      "metadata": {
        "id": "VvLqDzfPvto7"
      },
      "source": [
        "# Data Analysis\n",
        "\n",
        "File used to analysis the data related to all plans of one device, with these data we'll begin to predict which data will be usefull to construct our heuristic for the creation of new plans throw *History Based Priorisation*."
      ]
    },
    {
      "cell_type": "code",
      "metadata": {
        "id": "PqqazhTTX_ep"
      },
      "source": [
        "import pandas as pd\n",
        "import matplotlib\n",
        "import ipywidgets as widgets\n",
        "\n",
        "#Useful functions\n",
        "# data.columns.values # (Return an array representing the data in the Index.)\n",
        "# data.head() # (Return the first n rows. This function returns the first n rows for the object based on position. \n",
        "# It is useful for quickly testing if your object has the right type of data in it.)\n",
        "\n"
      ],
      "execution_count": 1,
      "outputs": []
    },
    {
      "cell_type": "markdown",
      "metadata": {
        "id": "eMPFqIwHvlcg"
      },
      "source": [
        "Import the Unified Data Base with all Platform Regression Test Plans data information related to a single device, and also the Data Base with all the CRs used on these Regression Plans for this device.\n",
        "\n",
        "Note: Every time that a new commit was made by the File Processor, the two links below needs to be updated, because the token for these files will be changed as well."
      ]
    },
    {
      "cell_type": "code",
      "metadata": {
        "id": "wGb3-uHOYFI0"
      },
      "source": [
        "url_data = 'https://raw.githubusercontent.com/mirandaRG/hbprio/master/Data_Source/Voyager_AndroidP/00_UnifiedData_Master.csv?token=AO47UI2KYJB37TDPV4BJGAS7SXMEI'\n",
        "data = pd.read_csv(url_data, sep=\",\",encoding=\"UTF-8\")\n",
        "\n",
        "url_CRs_data = 'https://raw.githubusercontent.com/mirandaRG/hbprio/master/Data_Source/Voyager_AndroidP/CRs_All_Plans.csv?token=AO47UIYVPZZQNLSHM3UXSUK7SXMEM'\n",
        "crs_data = pd.read_csv(url_CRs_data, sep=\",\",encoding=\"UTF-8\")"
      ],
      "execution_count": null,
      "outputs": []
    },
    {
      "cell_type": "markdown",
      "metadata": {
        "id": "OqJrHUzHzhud"
      },
      "source": [
        "Return the number of cases related to the Test Result type:"
      ]
    },
    {
      "cell_type": "code",
      "metadata": {
        "id": "Hzx4wayNAQtx"
      },
      "source": [
        "columnTestResult = data['TestResults']\n",
        "columnTestResult.value_counts()"
      ],
      "execution_count": null,
      "outputs": []
    },
    {
      "cell_type": "markdown",
      "metadata": {
        "id": "zwu-EE8TVg5v"
      },
      "source": [
        "Choose the Test Plnas by the category of the plan, using its campaign label."
      ]
    },
    {
      "cell_type": "code",
      "metadata": {
        "id": "3sHEVlWWVNjV"
      },
      "source": [
        "innerData = pd.DataFrame()\n",
        "planData = pd.DataFrame()\n",
        "chooseLabel = \"\""
      ],
      "execution_count": null,
      "outputs": []
    },
    {
      "cell_type": "code",
      "metadata": {
        "id": "v9TsAZCaQ4v4"
      },
      "source": [
        "dropdown_campaign = widgets.Dropdown(options = data.CampaignLabel.dropna().unique())\n",
        "display(dropdown_campaign)\n",
        "\n",
        "out1 = widgets.Output()\n",
        "display(out1)\n",
        "\n",
        "def on_change_campaign(change):\n",
        "  global chooseLabel\n",
        "  with out1:\n",
        "    if change['type'] == 'change' and change['name'] == 'value':\n",
        "        display(displayTPsIds(change['new']))\n",
        "        chooseLabel = change['new']\n",
        "\n",
        "dropdown_campaign.observe(on_change_campaign)\n",
        "\n",
        "def displayTPsIds (campaign):\n",
        "  global innerData\n",
        "  out1.clear_output()\n",
        "  innerData = data.filter(items=['CampaignLabel','TestPlanID']).where(data.CampaignLabel == campaign).dropna().drop_duplicates()\n",
        "  return innerData"
      ],
      "execution_count": null,
      "outputs": []
    },
    {
      "cell_type": "code",
      "metadata": {
        "id": "8iDs0AJ_T5CI"
      },
      "source": [
        "dropdown_testPlan = widgets.Dropdown(options = data.TestPlanID.where(data.CampaignLabel == chooseLabel).dropna().unique())\n",
        "display(dropdown_testPlan)\n",
        "\n",
        "out2 = widgets.Output()\n",
        "out3 = widgets.Output()\n",
        "\n",
        "display(out3)\n",
        "display(out2)\n",
        "\n",
        "def on_change_testPlan(change):\n",
        "  with out3:\n",
        "    if change['type'] == 'change' and change['name'] == 'value':\n",
        "      display(planHistory(change['new']).value_counts())\n",
        "  with out2:\n",
        "    if change['type'] == 'change' and change['name'] == 'value':\n",
        "      display(choosePlan(change['new']))\n",
        "\n",
        "#Observer\n",
        "dropdown_testPlan.observe(on_change_testPlan)\n",
        "\n",
        "\n",
        "#Methods\n",
        "def choosePlan (TPid):\n",
        "  global planData\n",
        "  out2.clear_output()\n",
        "\n",
        "  planData = data.filter(items=['TestCaseID','TestResults','AffectsVersion','BlockedCRNumber','BlockedReason','RemoteDefectCR']).where(data.TestPlanID == TPid).dropna(how='all').drop_duplicates()\n",
        "\n",
        "  auxFail = planData.where(planData.TestResults == 'Fail').dropna(how='all')\n",
        "  auxBlocked = planData.where(planData.TestResults == 'Blocked').dropna(how='all')\n",
        "\n",
        "  mergeData = [auxFail,auxBlocked]\n",
        "  allCrs = pd.concat(mergeData, ignore_index=True, sort=False)\n",
        "    \n",
        "  return allCrs  \n",
        "\n",
        "def planHistory(TPid):\n",
        "  global planData\n",
        "  out3.clear_output()\n",
        "\n",
        "  planData = data.filter(items=['TestCaseID','TestResults','AffectsVersion','BlockedCRNumber','BlockedReason','RemoteDefectCR']).where(data.TestPlanID == TPid).dropna(how='all').drop_duplicates()\n",
        "  columnTestResult = planData['TestResults']\n",
        "  #columnTestResult.value_counts()\n",
        "\n",
        "  return columnTestResult "
      ],
      "execution_count": null,
      "outputs": []
    },
    {
      "cell_type": "code",
      "metadata": {
        "id": "a2gVZ-pQWAu8"
      },
      "source": [
        ""
      ],
      "execution_count": null,
      "outputs": []
    },
    {
      "cell_type": "code",
      "metadata": {
        "id": "8syCGxTQWA-z"
      },
      "source": [
        ""
      ],
      "execution_count": null,
      "outputs": []
    },
    {
      "cell_type": "code",
      "metadata": {
        "id": "YrljgKMDWAr0"
      },
      "source": [
        "testDiff01 = pd.DataFrame()\n",
        "testDiff02 = pd.DataFrame()\n",
        "\n",
        "\n",
        "testDiff01 = data.filter(items=['TestCaseID','TestResults']).where(data.TestPlanID == \"MCA-1872700\").dropna(how='all').drop_duplicates() # MCA-1872700 Core Reg Cycle 1\n",
        "testDiff02 = data.filter(items=['TestCaseID','TestResults']).where(data.TestPlanID == \"MCA-2053888\").dropna(how='all').drop_duplicates() # MCA-2053888 Core Reg Cycle 2"
      ],
      "execution_count": null,
      "outputs": []
    },
    {
      "cell_type": "code",
      "metadata": {
        "id": "Z80P4Ejh2CJu"
      },
      "source": [
        ""
      ],
      "execution_count": null,
      "outputs": []
    },
    {
      "cell_type": "code",
      "metadata": {
        "id": "ecT2f18x2CoG"
      },
      "source": [
        "df = testDiff01.merge(testDiff02)\n",
        "df"
      ],
      "execution_count": null,
      "outputs": []
    },
    {
      "cell_type": "code",
      "metadata": {
        "id": "1_etz00e2Cx_"
      },
      "source": [
        "df = testDiff02.merge(testDiff01, how = 'outer' ,indicator=True).loc[lambda x : x['_merge']=='left_only']\n",
        "\n",
        "df"
      ],
      "execution_count": null,
      "outputs": []
    },
    {
      "cell_type": "code",
      "metadata": {
        "id": "7DxiJ1s72CsS"
      },
      "source": [
        ""
      ],
      "execution_count": null,
      "outputs": []
    },
    {
      "cell_type": "code",
      "metadata": {
        "id": "Ccgi6x-ClsY-"
      },
      "source": [
        ""
      ],
      "execution_count": null,
      "outputs": []
    },
    {
      "cell_type": "code",
      "metadata": {
        "id": "EqMHe840ls3j"
      },
      "source": [
        ""
      ],
      "execution_count": null,
      "outputs": []
    },
    {
      "cell_type": "code",
      "metadata": {
        "id": "IUEhxaB-ls7v"
      },
      "source": [
        ""
      ],
      "execution_count": null,
      "outputs": []
    },
    {
      "cell_type": "code",
      "metadata": {
        "id": "fHjDSsb6lscO"
      },
      "source": [
        ""
      ],
      "execution_count": null,
      "outputs": []
    },
    {
      "cell_type": "code",
      "metadata": {
        "id": "muCxzpLSlsVz"
      },
      "source": [
        ""
      ],
      "execution_count": null,
      "outputs": []
    },
    {
      "cell_type": "code",
      "metadata": {
        "id": "Ox1sLzv82CEC"
      },
      "source": [
        ""
      ],
      "execution_count": null,
      "outputs": []
    },
    {
      "cell_type": "markdown",
      "metadata": {
        "id": "s-Bby_hfmr6D"
      },
      "source": [
        "# Trials"
      ]
    },
    {
      "cell_type": "code",
      "metadata": {
        "id": "Se5m4-JHAQ0d"
      },
      "source": [
        "filteredData = data.filter(items=['TestPlanID','Issuekey','AffectsVersion','BlockedCRNumber','BlockedReason','CampaignLabel','RemoteDefectCR','TestResults'])"
      ],
      "execution_count": null,
      "outputs": []
    },
    {
      "cell_type": "code",
      "metadata": {
        "id": "A9dk-Z7PAQ4E"
      },
      "source": [
        "failCases = filteredData.filter(items=['Issuekey', 'IssueID', 'AffectsVersion', 'RemoteDefectCR', 'TestResults'])\\\n",
        ".where(filteredData.TestResults == 'Fail')\\\n",
        ".groupby('Issuekey')\n",
        "\n",
        "failCases.head().dropna(how='all')"
      ],
      "execution_count": null,
      "outputs": []
    },
    {
      "cell_type": "code",
      "metadata": {
        "id": "nRfsucTJAQ7B"
      },
      "source": [
        "blockedCases = filteredData.filter(items=['Issuekey', 'IssueID', 'AffectsVersion', 'BlockedCRNumber', 'BlockedReason', 'TestResults'])\\\n",
        ".where(filteredData.TestResults == 'Blocked')\\\n",
        ".groupby('Issuekey')\n",
        "\n",
        "blockedCases.head().dropna(how='all')"
      ],
      "execution_count": null,
      "outputs": []
    },
    {
      "cell_type": "code",
      "metadata": {
        "id": "sJzsjZPLARAv"
      },
      "source": [
        "data.filter(items=['TestResults','RemoteDefectCR']).dropna().drop_duplicates()"
      ],
      "execution_count": null,
      "outputs": []
    },
    {
      "cell_type": "code",
      "metadata": {
        "id": "jCR8hbOsARE5"
      },
      "source": [
        "data.filter(items=['TestResults','BlockedCRNumber','BlockedReason']).where(data.TestResults == 'Blocked').dropna(how='all').drop_duplicates()"
      ],
      "execution_count": null,
      "outputs": []
    },
    {
      "cell_type": "code",
      "metadata": {
        "id": "O9W1aNDG7Q_P"
      },
      "source": [
        "data.filter(items=['TestResults','BlockedReason']).where(data.TestResults == 'Blocked').dropna(how='all').drop_duplicates()"
      ],
      "execution_count": null,
      "outputs": []
    },
    {
      "cell_type": "code",
      "metadata": {
        "id": "kZqiBTFtEKA3"
      },
      "source": [
        "data.filter(items=['TestResults','BlockedReason']).where(data.TestResults == 'Blocked').dropna(how='all').groupby('BlockedReason').count()"
      ],
      "execution_count": null,
      "outputs": []
    },
    {
      "cell_type": "code",
      "metadata": {
        "id": "xyv3s8-s8QyU"
      },
      "source": [
        "dt_blocked = data.filter(items=['TestResults','BlockedReason']).where(data.TestResults == 'Blocked').dropna().groupby('BlockedReason').count()"
      ],
      "execution_count": null,
      "outputs": []
    },
    {
      "cell_type": "code",
      "metadata": {
        "id": "MpnVXgBkJEm0"
      },
      "source": [
        "data.filter(items=['CampaignLabel']).dropna().drop_duplicates()"
      ],
      "execution_count": null,
      "outputs": []
    },
    {
      "cell_type": "code",
      "metadata": {
        "id": "dHP_vNcju2Wt"
      },
      "source": [
        "print(chooseLabel)"
      ],
      "execution_count": null,
      "outputs": []
    },
    {
      "cell_type": "code",
      "metadata": {
        "id": "EYCu2S3K0zG-"
      },
      "source": [
        "data.filter(items=['CampaignLabel','TestPlanID']).dropna().drop_duplicates()"
      ],
      "execution_count": null,
      "outputs": []
    },
    {
      "cell_type": "code",
      "metadata": {
        "id": "3WUpswZU1bW8"
      },
      "source": [
        "data.filter(items=['CampaignLabel','TestPlanID']).where(data.CampaignLabel == 'olson_row_p_core_reg').dropna().drop_duplicates()"
      ],
      "execution_count": null,
      "outputs": []
    },
    {
      "cell_type": "code",
      "metadata": {
        "id": "kgDj9Vki2G0u"
      },
      "source": [
        "filteredData.head()"
      ],
      "execution_count": null,
      "outputs": []
    },
    {
      "cell_type": "code",
      "metadata": {
        "id": "Nn9C8bo62G5_"
      },
      "source": [
        "columnTestResult = filteredData['TestResults']\n",
        "columnTestResult.value_counts()"
      ],
      "execution_count": null,
      "outputs": []
    },
    {
      "cell_type": "code",
      "metadata": {
        "id": "NQIttIQi2HHp"
      },
      "source": [
        "SelectedByCategory = filteredData.where(filteredData.CampaignLabel == 'olson_row_p_core_reg').dropna(how='all')\n"
      ],
      "execution_count": null,
      "outputs": []
    },
    {
      "cell_type": "code",
      "metadata": {
        "id": "rApav_im2HNx"
      },
      "source": [
        "SelectedByCategory.head()"
      ],
      "execution_count": null,
      "outputs": []
    },
    {
      "cell_type": "code",
      "metadata": {
        "id": "pS31rc398SKa"
      },
      "source": [
        "fail = columnTestResult.where(SelectedByCategory.TestResults == 'Fail').value_counts()\n",
        "blocked = columnTestResult.where(SelectedByCategory.TestResults == 'Blocked').value_counts()\n",
        "\n",
        "print(fail)\n",
        "print(blocked)"
      ],
      "execution_count": null,
      "outputs": []
    },
    {
      "cell_type": "code",
      "metadata": {
        "id": "p5tx0rBv_Aw9"
      },
      "source": [
        "SelectedByCategory.where(filteredData.TestPlanID == 'MCA-2046169').dropna(how='all')"
      ],
      "execution_count": null,
      "outputs": []
    },
    {
      "cell_type": "code",
      "metadata": {
        "id": "1wvpzxkJ_zgf"
      },
      "source": [
        "SelectedByCategory.where(filteredData.TestPlanID == 'MCA-2046169').dropna(how='all').value_counts('TestResults')"
      ],
      "execution_count": null,
      "outputs": []
    },
    {
      "cell_type": "code",
      "metadata": {
        "id": "Q9r7JWTEElN8"
      },
      "source": [
        "selected = SelectedByCategory.where(filteredData.TestPlanID == 'MCA-2046169').dropna(how='all')"
      ],
      "execution_count": null,
      "outputs": []
    },
    {
      "cell_type": "code",
      "metadata": {
        "id": "8636MycJElQb"
      },
      "source": [
        "auxFail = selected.where(filteredData.TestResults == 'Fail').dropna(how='all')\n",
        "auxBlocked = selected.where(filteredData.TestResults == 'Blocked').dropna(how='all')\n",
        "\n",
        "mergeData = [auxFail,auxBlocked]\n",
        "allCrs = pd.concat(mergeData, ignore_index=True, sort=False)\n",
        "allCrs.head()"
      ],
      "execution_count": null,
      "outputs": []
    },
    {
      "cell_type": "code",
      "metadata": {
        "id": "1nSPs-ZxEl_3"
      },
      "source": [
        ""
      ],
      "execution_count": null,
      "outputs": []
    },
    {
      "cell_type": "code",
      "metadata": {
        "id": "HdW1ULnMEmCp"
      },
      "source": [
        ""
      ],
      "execution_count": null,
      "outputs": []
    },
    {
      "cell_type": "markdown",
      "metadata": {
        "id": "uXW1K1IyWSJa"
      },
      "source": [
        "CRs Data"
      ]
    },
    {
      "cell_type": "code",
      "metadata": {
        "id": "wNU_HSR2AsOz"
      },
      "source": [
        "crs_data.head()"
      ],
      "execution_count": null,
      "outputs": []
    },
    {
      "cell_type": "markdown",
      "metadata": {
        "id": "we6fvulfhI9S"
      },
      "source": [
        "#APFD"
      ]
    },
    {
      "cell_type": "code",
      "metadata": {
        "id": "wLjb2f33hPmV"
      },
      "source": [
        "url_data = 'https://raw.githubusercontent.com/mirandaRG/hbprio/master/Data_Source/Voyager_AndroidP/MCA-1872700_processed.csv?token=AO47UI27ALRAAGPMPCMTRHLAXQCB4'\n",
        "apfd_data = pd.read_csv(url_data, sep=\",\",encoding=\"UTF-8\")\n",
        "\n",
        "apfd_filtered = apfd_data.filter(items=['TestCaseID','Summary','AffectsVersion','TestResults','RemoteDefectCR','BlockedCRNumber','BlockedReason','TestDate'])"
      ],
      "execution_count": 19,
      "outputs": []
    },
    {
      "cell_type": "code",
      "metadata": {
        "id": "lG8dVRMgjYEy"
      },
      "source": [
        "# pd.to_datetime(df)\n",
        "# convert the 'Date' column to datetime format\n",
        "#df['Date']= pd.to_datetime(df['Date'])\n",
        "\n",
        "apfd_filtered['TestDate'] = pd.to_datetime(apfd_filtered['TestDate'])\n",
        "\n",
        "# df_ordenado = df.sort_values(by='Data')\n",
        "\n",
        "apfd_ordered = apfd_filtered.sort_values(by='TestDate')\n",
        "\n",
        "# cria uma nova coluna\n",
        "apfd_ordered['ExecOrd'] = 'NaN'\n",
        "count = 0\n",
        "\n",
        "for index, row in apfd_ordered.iterrows():\n",
        "  count += 1\n",
        "  apfd_ordered.loc[index,'ExecOrd'] = count\n"
      ],
      "execution_count": 20,
      "outputs": []
    },
    {
      "cell_type": "code",
      "metadata": {
        "id": "sygS5I3fjYGy",
        "outputId": "fd327125-361e-417f-c93b-19c754cb6aa1",
        "colab": {
          "base_uri": "https://localhost:8080/",
          "height": 195
        }
      },
      "source": [
        "apfd_ordered.head()"
      ],
      "execution_count": 21,
      "outputs": [
        {
          "output_type": "execute_result",
          "data": {
            "text/html": [
              "<div>\n",
              "<style scoped>\n",
              "    .dataframe tbody tr th:only-of-type {\n",
              "        vertical-align: middle;\n",
              "    }\n",
              "\n",
              "    .dataframe tbody tr th {\n",
              "        vertical-align: top;\n",
              "    }\n",
              "\n",
              "    .dataframe thead th {\n",
              "        text-align: right;\n",
              "    }\n",
              "</style>\n",
              "<table border=\"1\" class=\"dataframe\">\n",
              "  <thead>\n",
              "    <tr style=\"text-align: right;\">\n",
              "      <th></th>\n",
              "      <th>TestCaseID</th>\n",
              "      <th>Summary</th>\n",
              "      <th>AffectsVersion</th>\n",
              "      <th>TestResults</th>\n",
              "      <th>RemoteDefectCR</th>\n",
              "      <th>BlockedCRNumber</th>\n",
              "      <th>BlockedReason</th>\n",
              "      <th>TestDate</th>\n",
              "      <th>ExecOrd</th>\n",
              "    </tr>\n",
              "  </thead>\n",
              "  <tbody>\n",
              "    <tr>\n",
              "      <th>451</th>\n",
              "      <td>MCA-198225</td>\n",
              "      <td>TE - TC - FPS Out of Box Setup</td>\n",
              "      <td>PPV29.257</td>\n",
              "      <td>Pass</td>\n",
              "      <td>NaN</td>\n",
              "      <td>NaN</td>\n",
              "      <td>NaN</td>\n",
              "      <td>2019-08-26 08:26:00</td>\n",
              "      <td>1</td>\n",
              "    </tr>\n",
              "    <tr>\n",
              "      <th>440</th>\n",
              "      <td>MCA-706877</td>\n",
              "      <td>TE - TC - TC - Unlock via wrong fingerprint, t...</td>\n",
              "      <td>PPV29.257</td>\n",
              "      <td>Pass</td>\n",
              "      <td>NaN</td>\n",
              "      <td>NaN</td>\n",
              "      <td>NaN</td>\n",
              "      <td>2019-08-26 08:29:00</td>\n",
              "      <td>2</td>\n",
              "    </tr>\n",
              "    <tr>\n",
              "      <th>442</th>\n",
              "      <td>MCA-24801</td>\n",
              "      <td>TE - TC - AFW Managed Account - Gmail check in...</td>\n",
              "      <td>PPV29.257</td>\n",
              "      <td>Pass</td>\n",
              "      <td>NaN</td>\n",
              "      <td>NaN</td>\n",
              "      <td>NaN</td>\n",
              "      <td>2019-08-26 08:38:00</td>\n",
              "      <td>3</td>\n",
              "    </tr>\n",
              "    <tr>\n",
              "      <th>441</th>\n",
              "      <td>MCA-706876</td>\n",
              "      <td>TE - TC - TC - The DUT power off during record...</td>\n",
              "      <td>PPV29.257</td>\n",
              "      <td>Pass</td>\n",
              "      <td>NaN</td>\n",
              "      <td>NaN</td>\n",
              "      <td>NaN</td>\n",
              "      <td>2019-08-26 08:40:00</td>\n",
              "      <td>4</td>\n",
              "    </tr>\n",
              "    <tr>\n",
              "      <th>462</th>\n",
              "      <td>MCA-1604036</td>\n",
              "      <td>TE - TC - Fingerprint - Simulate the pocket mode</td>\n",
              "      <td>PPV29.257</td>\n",
              "      <td>Pass</td>\n",
              "      <td>NaN</td>\n",
              "      <td>NaN</td>\n",
              "      <td>NaN</td>\n",
              "      <td>2019-08-26 08:46:00</td>\n",
              "      <td>5</td>\n",
              "    </tr>\n",
              "  </tbody>\n",
              "</table>\n",
              "</div>"
            ],
            "text/plain": [
              "      TestCaseID  ... ExecOrd\n",
              "451   MCA-198225  ...       1\n",
              "440   MCA-706877  ...       2\n",
              "442    MCA-24801  ...       3\n",
              "441   MCA-706876  ...       4\n",
              "462  MCA-1604036  ...       5\n",
              "\n",
              "[5 rows x 9 columns]"
            ]
          },
          "metadata": {
            "tags": []
          },
          "execution_count": 21
        }
      ]
    },
    {
      "cell_type": "code",
      "metadata": {
        "id": "nls1DuCAjYAx"
      },
      "source": [
        ""
      ],
      "execution_count": 12,
      "outputs": []
    },
    {
      "cell_type": "code",
      "metadata": {
        "id": "KMKrTKvuoAva"
      },
      "source": [
        ""
      ],
      "execution_count": 17,
      "outputs": []
    },
    {
      "cell_type": "code",
      "metadata": {
        "id": "u4uC5rbvoAr9"
      },
      "source": [
        ""
      ],
      "execution_count": null,
      "outputs": []
    },
    {
      "cell_type": "code",
      "metadata": {
        "id": "T_s_5aJAoAqY"
      },
      "source": [
        ""
      ],
      "execution_count": null,
      "outputs": []
    },
    {
      "cell_type": "code",
      "metadata": {
        "id": "5HTKGOfwoAnu"
      },
      "source": [
        ""
      ],
      "execution_count": null,
      "outputs": []
    },
    {
      "cell_type": "code",
      "metadata": {
        "id": "um4iDiXZoAlJ"
      },
      "source": [
        ""
      ],
      "execution_count": null,
      "outputs": []
    },
    {
      "cell_type": "code",
      "metadata": {
        "id": "G9W-_HfmoAjK"
      },
      "source": [
        ""
      ],
      "execution_count": null,
      "outputs": []
    },
    {
      "cell_type": "code",
      "metadata": {
        "id": "KGSuI_HyoAf4"
      },
      "source": [
        ""
      ],
      "execution_count": null,
      "outputs": []
    },
    {
      "cell_type": "code",
      "metadata": {
        "id": "jVKEF5YUoAd8"
      },
      "source": [
        ""
      ],
      "execution_count": null,
      "outputs": []
    }
  ]
}